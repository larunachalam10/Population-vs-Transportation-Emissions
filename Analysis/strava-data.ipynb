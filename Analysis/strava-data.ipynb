{
 "cells": [
  {
   "cell_type": "code",
   "execution_count": 6,
   "metadata": {},
   "outputs": [
    {
     "ename": "SyntaxError",
     "evalue": "from __future__ imports must occur at the beginning of the file (<ipython-input-6-50295c55c402>, line 4)",
     "output_type": "error",
     "traceback": [
      "\u001b[0;36m  File \u001b[0;32m\"<ipython-input-6-50295c55c402>\"\u001b[0;36m, line \u001b[0;32m4\u001b[0m\n\u001b[0;31m    from swagger_client.rest import ApiException\u001b[0m\n\u001b[0m           ^\u001b[0m\n\u001b[0;31mSyntaxError\u001b[0m\u001b[0;31m:\u001b[0m from __future__ imports must occur at the beginning of the file\n"
     ]
    }
   ],
   "source": [
    "from __future__ import print_statement\n",
    "import time\n",
    "import swagger_client\n",
    "from swagger_client.rest import ApiException\n",
    "from pprint import pprint\n",
    "\n",
    "# Configure OAuth2 access token for authorization: strava_oauth\n",
    "swagger_client.configuration.access_token = 'd94c2c38db4080e12dd2ad5b39632c139f43d09a'\n",
    "\n",
    "# create an instance of the API class\n",
    "api_instance = swagger_client.ActivitiesApi()\n",
    "before = 56 # Integer | An epoch timestamp to use for filtering activities that have taken place before a certain time. (optional)\n",
    "after = 56 # Integer | An epoch timestamp to use for filtering activities that have taken place after a certain time. (optional)\n",
    "page = 56 # Integer | Page number. Defaults to 1. (optional)\n",
    "perPage = 56 # Integer | Number of items per page. Defaults to 30. (optional) (default to 30)\n",
    "\n",
    "try: \n",
    "    # List Athlete Activities\n",
    "    api_response = api_instance.getLoggedInAthleteActivities(before=before, after=after, page=page, perPage=perPage)\n",
    "    pprint(api_response)\n",
    "    \n",
    "except ApiException as e:\n",
    "    print(\"Exception when calling ActivitiesApi->getLoggedInAthleteActivities: %s\\n\" % e)"
   ]
  },
  {
   "cell_type": "code",
   "execution_count": null,
   "metadata": {},
   "outputs": [],
   "source": []
  },
  {
   "cell_type": "code",
   "execution_count": null,
   "metadata": {},
   "outputs": [],
   "source": []
  }
 ],
 "metadata": {
  "kernelspec": {
   "display_name": "Python 3",
   "language": "python",
   "name": "python3"
  },
  "language_info": {
   "codemirror_mode": {
    "name": "ipython",
    "version": 3
   },
   "file_extension": ".py",
   "mimetype": "text/x-python",
   "name": "python",
   "nbconvert_exporter": "python",
   "pygments_lexer": "ipython3",
   "version": "3.6.12"
  }
 },
 "nbformat": 4,
 "nbformat_minor": 4
}
